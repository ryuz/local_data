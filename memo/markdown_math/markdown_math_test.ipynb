{
 "cells": [
  {
   "cell_type": "markdown",
   "metadata": {},
   "source": [
    "# 数式のテスト\n",
    "\n",
    "## その１\n",
    "\n",
    "$$ x = a*x+b+cx^2 $$\n",
    "\n",
    "\n",
    "## その2\n",
    "\n",
    "githubで見ると改行がおかしい？\n",
    "\n",
    "$$\n",
    "X = a*x + by \\\\\n",
    "Y = c*x + dy\n",
    "$$\n",
    "\n",
    "\n",
    "## その3\n",
    "\n",
    "githubに入れると最後の行しか出ない？？\n",
    "\n",
    "$$ X = a*x + by $$\n",
    "\n",
    "$$ Y = c*x + dy $$\n",
    "\n",
    "\n",
    "## その4\n",
    "\n",
    "これだとどう？\n",
    "\n",
    "$$\n",
    "\\begin{eqnarray*}\n",
    "4a &=& ((a+a)+a)+a \\\\\n",
    "   &=& (a+a)+(a+a)\n",
    "\\end{eqnarray*}\n",
    "$$\n",
    "\n",
    "## その5\n",
    "\n",
    "$$\n",
    "\\begin{eqnarray}\n",
    "4a = ((a+a)+a)+a \\\\\n",
    "   = (a+a)+(a+a)\n",
    "\\end{eqnarray}\n",
    "$$\n",
    "\n",
    "実験"
   ]
  },
  {
   "cell_type": "code",
   "execution_count": 1,
   "metadata": {},
   "outputs": [
    {
     "name": "stdout",
     "output_type": "stream",
     "text": [
      "hello\n"
     ]
    }
   ],
   "source": [
    "print('hello')"
   ]
  },
  {
   "cell_type": "code",
   "execution_count": null,
   "metadata": {},
   "outputs": [],
   "source": []
  }
 ],
 "metadata": {
  "kernelspec": {
   "display_name": "Python 3",
   "language": "python",
   "name": "python3"
  },
  "language_info": {
   "codemirror_mode": {
    "name": "ipython",
    "version": 3
   },
   "file_extension": ".py",
   "mimetype": "text/x-python",
   "name": "python",
   "nbconvert_exporter": "python",
   "pygments_lexer": "ipython3",
   "version": "3.7.4"
  }
 },
 "nbformat": 4,
 "nbformat_minor": 2
}
