{
 "cells": [
  {
   "cell_type": "markdown",
   "metadata": {},
   "source": [
    "# 数式のテスト\n",
    "\n",
    "## その１\n",
    "\n",
    "$$ x = a*x+b+cx^2 $$\n",
    "\n",
    "\n",
    "## その2\n",
    "\n",
    "githubで見ると改行がおかしい？\n",
    "\n",
    "$$\n",
    "X = a*x + by \\\\\n",
    "Y = c*x + dy\n",
    "$$\n",
    "\n",
    "\n",
    "## その3\n",
    "\n",
    "githubに入れると改行がおかしい？\n",
    "\n",
    "$$\n",
    "X = a*x + by \\\\\n",
    "Y = c*x + dy\n",
    "$$\n",
    "\n"
   ]
  },
  {
   "cell_type": "code",
   "execution_count": null,
   "metadata": {},
   "outputs": [],
   "source": []
  }
 ],
 "metadata": {
  "kernelspec": {
   "display_name": "Python 3",
   "language": "python",
   "name": "python3"
  },
  "language_info": {
   "codemirror_mode": {
    "name": "ipython",
    "version": 3
   },
   "file_extension": ".py",
   "mimetype": "text/x-python",
   "name": "python",
   "nbconvert_exporter": "python",
   "pygments_lexer": "ipython3",
   "version": "3.7.4"
  }
 },
 "nbformat": 4,
 "nbformat_minor": 2
}
